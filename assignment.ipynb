{
 "cells": [
  {
   "cell_type": "markdown",
   "id": "ec03a821-f97c-43f9-a9a9-d7e1a14a703d",
   "metadata": {},
   "source": [
    "# My Jupyter Notebook ON IBM Watson Studio"
   ]
  },
  {
   "cell_type": "markdown",
   "id": "5cc2def6-896c-4d89-aa19-46c838289420",
   "metadata": {},
   "source": [
    "**Jingchen Bi**\n",
    "\n",
    "Traffic Engineer"
   ]
  },
  {
   "cell_type": "markdown",
   "id": "f836ec51-f3d4-40f0-a13c-cf5f26a0472b",
   "metadata": {},
   "source": [
    "*I am interested in data science because it helps me analyzing data more efficiently.*"
   ]
  },
  {
   "cell_type": "markdown",
   "id": "33aef9be-f0a2-415c-bdbc-3abaa2d05cb4",
   "metadata": {},
   "source": [
    "### The next formula will calculate the addition of 1 and 1:"
   ]
  },
  {
   "cell_type": "code",
   "execution_count": 1,
   "id": "e3b58cd7-0702-48e2-8c67-7022a2984f6a",
   "metadata": {},
   "outputs": [
    {
     "data": {
      "text/plain": [
       "2"
      ]
     },
     "execution_count": 1,
     "metadata": {},
     "output_type": "execute_result"
    }
   ],
   "source": [
    "1+1"
   ]
  },
  {
   "cell_type": "markdown",
   "id": "5a0a31f0-6f71-4ef8-8086-9b2a2f455a02",
   "metadata": {},
   "source": [
    "Table:\n",
    "|number|number|addition|\n",
    "| -----|:----:| ------:|\n",
    "| 1    | 1    | 2      |\n",
    "\n",
    "Bulleted list:\n",
    "- one\n",
    "- one\n",
    "- two\n",
    "\n",
    "Numbered list:\n",
    "1. one\n",
    "2. one\n",
    "3. two"
   ]
  },
  {
   "cell_type": "code",
   "execution_count": null,
   "id": "1383a3e5-e91f-434b-9f0f-672600672bda",
   "metadata": {},
   "outputs": [],
   "source": []
  }
 ],
 "metadata": {
  "kernelspec": {
   "display_name": "Python",
   "language": "python",
   "name": "conda-env-python-py"
  },
  "language_info": {
   "codemirror_mode": {
    "name": "ipython",
    "version": 3
   },
   "file_extension": ".py",
   "mimetype": "text/x-python",
   "name": "python",
   "nbconvert_exporter": "python",
   "pygments_lexer": "ipython3",
   "version": "3.7.12"
  }
 },
 "nbformat": 4,
 "nbformat_minor": 5
}
